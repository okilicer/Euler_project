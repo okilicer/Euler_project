{
 "cells": [
  {
   "cell_type": "code",
   "execution_count": 1,
   "metadata": {},
   "outputs": [],
   "source": [
    "from sklearn.datasets import load_breast_cancer\n",
    "data = load_breast_cancer()"
   ]
  },
  {
   "cell_type": "code",
   "execution_count": 2,
   "metadata": {},
   "outputs": [],
   "source": [
    "import numpy as np\n",
    "from matplotlib import pyplot as plt\n",
    "from sklearn.metrics import classification_report, confusion_matrix"
   ]
  },
  {
   "cell_type": "code",
   "execution_count": 3,
   "metadata": {},
   "outputs": [
    {
     "name": "stdout",
     "output_type": "stream",
     "text": [
      "n_labels=2 \t n_samples=569 \t n_features=30\n"
     ]
    }
   ],
   "source": [
    "X = data.data\n",
    "Y = data.target  \n",
    "\n",
    "feature_names = data.feature_names\n",
    "Y_names = data.target_names\n",
    "### Burak: This mapping is needed to convert Y_names into numeric values.\n",
    "Y_names_numeric = [i for i in range(len(Y_names))]\n",
    "\n",
    "n_labels = len(Y_names)\n",
    "n_samples, n_features = X.shape\n",
    "\n",
    "print(\"n_labels=%d \\t n_samples=%d \\t n_features=%d\" % (n_labels, n_samples, n_features))"
   ]
  },
  {
   "cell_type": "markdown",
   "metadata": {},
   "source": [
    "## Train-Test Split"
   ]
  },
  {
   "cell_type": "code",
   "execution_count": 4,
   "metadata": {},
   "outputs": [],
   "source": [
    "from sklearn.model_selection import train_test_split"
   ]
  },
  {
   "cell_type": "code",
   "execution_count": 5,
   "metadata": {},
   "outputs": [],
   "source": [
    "X_train, X_test, Y_train, Y_test = \\\n",
    "    train_test_split(X, Y, train_size=0.8, test_size = 0.2, random_state=0)"
   ]
  },
  {
   "cell_type": "code",
   "execution_count": 6,
   "metadata": {
    "scrolled": true
   },
   "outputs": [
    {
     "data": {
      "text/plain": [
       "array([1, 1, 1, 1, 1, 1, 1, 1, 0, 1, 0, 1, 1, 1, 1, 1, 0, 1, 1, 1, 1, 1,\n",
       "       1, 0, 0, 1, 1, 1, 0, 1, 1, 0, 1, 0, 1, 1, 1, 1, 1, 1, 1, 0, 1, 0,\n",
       "       1, 0, 0, 1, 1, 0, 1, 0, 0, 0, 1, 1, 1, 1, 1, 1, 0, 1, 1, 1, 1, 0,\n",
       "       0, 1, 1, 0, 1, 1, 1, 1, 0, 1, 1, 0, 0, 1, 1, 0, 0, 1, 1, 0, 1, 1,\n",
       "       0, 0, 0, 1, 1, 1, 0, 1, 1, 1, 1, 1, 0, 1, 0, 1, 0, 1, 0, 1, 0, 1,\n",
       "       1, 1, 1, 0, 1, 0, 1, 1, 1, 0, 1, 1, 1, 0, 1, 1, 0, 0, 1, 0, 1, 0,\n",
       "       1, 0, 0, 0, 0, 1, 0, 1, 0, 1, 0, 1, 0, 1, 1, 0, 1, 1, 1, 1, 1, 1,\n",
       "       1, 1, 1, 1, 1, 1, 1, 0, 1, 1, 1, 0, 1, 1, 1, 1, 1, 1, 0, 1, 0, 1,\n",
       "       1, 0, 1, 0, 0, 1, 0, 0, 1, 1, 0, 1, 1, 1, 0, 1, 1, 1, 1, 1, 0, 0,\n",
       "       1, 1, 1, 1, 0, 0, 1, 1, 1, 1, 0, 1, 1, 0, 1, 1, 0, 1, 0, 1, 1, 1,\n",
       "       1, 0, 0, 0, 0, 1, 0, 1, 0, 0, 1, 1, 1, 1, 1, 0, 1, 1, 0, 1, 1, 0,\n",
       "       0, 1, 1, 1, 0, 0, 1, 1, 0, 1, 1, 1, 0, 1, 0, 1, 0, 0, 0, 0, 1, 1,\n",
       "       1, 1, 0, 0, 1, 1, 1, 1, 1, 0, 1, 1, 0, 1, 1, 0, 0, 0, 0, 1, 1, 0,\n",
       "       1, 1, 1, 0, 0, 1, 1, 1, 1, 1, 0, 0, 0, 1, 0, 0, 1, 1, 1, 1, 1, 1,\n",
       "       0, 1, 1, 1, 1, 1, 1, 0, 0, 1, 0, 1, 0, 0, 1, 1, 1, 1, 1, 0, 0, 0,\n",
       "       1, 1, 0, 0, 1, 1, 0, 1, 0, 0, 1, 0, 1, 1, 1, 1, 1, 1, 1, 0, 0, 1,\n",
       "       1, 1, 0, 1, 1, 1, 1, 0, 1, 0, 0, 0, 1, 0, 1, 0, 1, 0, 0, 1, 1, 1,\n",
       "       1, 1, 1, 1, 1, 0, 0, 0, 0, 0, 1, 1, 1, 1, 1, 1, 1, 0, 1, 0, 1, 1,\n",
       "       1, 1, 1, 0, 0, 0, 1, 0, 1, 1, 0, 0, 0, 0, 1, 0, 0, 0, 1, 0, 1, 0,\n",
       "       1, 1, 0, 0, 1, 0, 1, 1, 1, 1, 0, 1, 1, 0, 1, 1, 1, 0, 0, 1, 1, 1,\n",
       "       0, 1, 1, 0, 1, 1, 1, 1, 1, 0, 0, 0, 1, 1, 1])"
      ]
     },
     "execution_count": 6,
     "metadata": {},
     "output_type": "execute_result"
    }
   ],
   "source": [
    "Y_train"
   ]
  },
  {
   "cell_type": "markdown",
   "metadata": {},
   "source": [
    "## Support Vector Machine (Breast Cancer)"
   ]
  },
  {
   "cell_type": "code",
   "execution_count": 7,
   "metadata": {},
   "outputs": [],
   "source": [
    "from sklearn.svm import SVC"
   ]
  },
  {
   "cell_type": "code",
   "execution_count": 8,
   "metadata": {},
   "outputs": [],
   "source": [
    "from sklearn import metrics "
   ]
  },
  {
   "cell_type": "code",
   "execution_count": 9,
   "metadata": {},
   "outputs": [],
   "source": [
    "Y_train_nope = [0 if Y_train[i]==0 else 1 for i in range(len(Y_train))]\n",
    "Y_test_nope = [0 if Y_test[i]==0 else 1 for i in range(len(Y_test))]"
   ]
  },
  {
   "cell_type": "code",
   "execution_count": 10,
   "metadata": {},
   "outputs": [
    {
     "data": {
      "text/plain": [
       "SVC(C=200, cache_size=8000, gamma=0.01)"
      ]
     },
     "execution_count": 10,
     "metadata": {},
     "output_type": "execute_result"
    }
   ],
   "source": [
    "support_vector_classifier = SVC(C=200,kernel='rbf',gamma=0.01,cache_size=8000,probability=False)\n",
    "support_vector_classifier.fit(X_train, Y_train_nope)"
   ]
  },
  {
   "cell_type": "code",
   "execution_count": 11,
   "metadata": {},
   "outputs": [
    {
     "name": "stdout",
     "output_type": "stream",
     "text": [
      "accuracy_score=0.5877192982456141\n"
     ]
    }
   ],
   "source": [
    "Y_test_nope_pred = support_vector_classifier.predict(X_test)\n",
    "accuracy_score = metrics.accuracy_score(Y_test_nope, Y_test_nope_pred)\n",
    "print(\"accuracy_score={}\".format(accuracy_score))"
   ]
  },
  {
   "cell_type": "code",
   "execution_count": 12,
   "metadata": {},
   "outputs": [
    {
     "name": "stdout",
     "output_type": "stream",
     "text": [
      "Confusion Matrix:\n",
      "[[ 1 46]\n",
      " [ 1 66]]\n"
     ]
    },
    {
     "data": {
      "image/png": "[encoded data removed]",
      "text/plain": [
       "<Figure size 288x288 with 2 Axes>"
      ]
     },
     "metadata": {
      "needs_background": "light"
     },
     "output_type": "display_data"
    }
   ],
   "source": [
    "print(\"Confusion Matrix:\")\n",
    "cm = confusion_matrix(Y_test_nope, Y_test_nope_pred)\n",
    "print(cm)\n",
    "plt.matshow(cm)\n",
    "\n",
    "plt.title('Confusion matrix', fontsize=25, position=(0.5,1.25))\n",
    "plt.xticks(fontsize=20)\n",
    "plt.yticks(fontsize=20)\n",
    "plt.ylabel('True label', fontsize=22)\n",
    "plt.xlabel('Predicted label', fontsize=22)\n",
    "plt.colorbar()\n",
    "\n",
    "plt.show()"
   ]
  },
  {
   "cell_type": "code",
   "execution_count": 13,
   "metadata": {},
   "outputs": [
    {
     "name": "stdout",
     "output_type": "stream",
     "text": [
      "              precision    recall  f1-score   support\n",
      "\n",
      "           0       0.50      0.02      0.04        47\n",
      "           1       0.59      0.99      0.74        67\n",
      "\n",
      "    accuracy                           0.59       114\n",
      "   macro avg       0.54      0.50      0.39       114\n",
      "weighted avg       0.55      0.59      0.45       114\n",
      "\n"
     ]
    }
   ],
   "source": [
    "print(classification_report(Y_test_nope, Y_test_nope_pred))"
   ]
  },
  {
   "cell_type": "markdown",
   "metadata": {},
   "source": [
    "## One vs Rest Classifier\n",
    "\n",
    "Let's generalize the above to all classes. We first need to create a binary label for each output class:"
   ]
  },
  {
   "cell_type": "code",
   "execution_count": 14,
   "metadata": {},
   "outputs": [],
   "source": [
    "from sklearn.multiclass import OneVsRestClassifier\n",
    "from sklearn.preprocessing import label_binarize"
   ]
  },
  {
   "cell_type": "code",
   "execution_count": 15,
   "metadata": {},
   "outputs": [
    {
     "data": {
      "text/plain": [
       "((569,), (569, 1))"
      ]
     },
     "execution_count": 15,
     "metadata": {},
     "output_type": "execute_result"
    }
   ],
   "source": [
    "Y_bin = label_binarize(Y, classes=Y_names_numeric)\n",
    "Y.shape,Y_bin.shape"
   ]
  },
  {
   "cell_type": "code",
   "execution_count": 16,
   "metadata": {},
   "outputs": [],
   "source": [
    "rand_state = np.random.RandomState(42)\n",
    "\n",
    "### There is a problem if train_ratio=0.80, which gives Y_train_new.shape=119, should be 120.\n",
    "train_ratio = 0.803\n",
    "train_indices = rand_state.rand(len(X)) <= train_ratio\n",
    "train_size = len(X[train_indices])\n",
    "\n",
    "### Burak: These new train and test sets are only for OVR classifier to avoid conflict with other sets\n",
    "X_train_new = X[train_indices]\n",
    "X_test_new = X[~train_indices]\n",
    "\n",
    "Y_train_new = Y[train_indices]\n",
    "Y_test_new = Y[~train_indices]"
   ]
  },
  {
   "cell_type": "code",
   "execution_count": 17,
   "metadata": {},
   "outputs": [],
   "source": [
    "# Binarize the output\n",
    "Y_bin = label_binarize(Y, classes=Y_names_numeric)\n",
    "\n",
    "Y_train_ovrc = Y_bin[train_indices]\n",
    "Y_test_ovrc = Y_bin[~train_indices]\n",
    "\n",
    "# Learn to predict each class against the other\n",
    "one_vs_rest_classifier = OneVsRestClassifier(SVC(kernel='linear', probability=True, random_state=0))\n",
    "one_vs_rest_classifier.fit(X_train_new, Y_train_ovrc)\n",
    "\n",
    "# predictions\n",
    "Y_train_pred_prob_ovrc = one_vs_rest_classifier.predict_proba(X_train_new)\n",
    "Y_train_pred_ovrc = Y_train_pred_prob_ovrc.argmax(axis=1)\n",
    "Y_test_pred_prob_ovrc = one_vs_rest_classifier.predict_proba(X_test_new)\n",
    "Y_test_pred_ovrc = Y_test_pred_prob_ovrc.argmax(axis=1)"
   ]
  },
  {
   "cell_type": "code",
   "execution_count": 18,
   "metadata": {},
   "outputs": [
    {
     "name": "stdout",
     "output_type": "stream",
     "text": [
      "Accuracy_score=0.9761904761904762\n"
     ]
    }
   ],
   "source": [
    "accuracy_score = metrics.accuracy_score(Y_test_new, Y_test_pred_ovrc)\n",
    "print(\"Accuracy_score={}\".format(accuracy_score))"
   ]
  },
  {
   "cell_type": "code",
   "execution_count": 19,
   "metadata": {},
   "outputs": [
    {
     "name": "stdout",
     "output_type": "stream",
     "text": [
      "Confusion Matrix:\n",
      "[[41  3]\n",
      " [ 0 82]]\n"
     ]
    },
    {
     "data": {
      "image/png": "[encoded data removed]",
      "text/plain": [
       "<Figure size 288x288 with 2 Axes>"
      ]
     },
     "metadata": {
      "needs_background": "light"
     },
     "output_type": "display_data"
    }
   ],
   "source": [
    "print(\"Confusion Matrix:\")\n",
    "cm = confusion_matrix(Y_test_new, Y_test_pred_ovrc)\n",
    "print(cm)\n",
    "plt.matshow(cm)\n",
    "\n",
    "plt.title('Confusion matrix', fontsize=25, position=(0.5,1.25))\n",
    "plt.xticks(fontsize=20)\n",
    "plt.yticks(fontsize=20)\n",
    "plt.ylabel('True label', fontsize=22)\n",
    "plt.xlabel('Predicted label', fontsize=22)\n",
    "plt.colorbar()\n",
    "\n",
    "plt.show()"
   ]
  },
  {
   "cell_type": "code",
   "execution_count": 20,
   "metadata": {
    "scrolled": true
   },
   "outputs": [
    {
     "name": "stdout",
     "output_type": "stream",
     "text": [
      "              precision    recall  f1-score   support\n",
      "\n",
      "           0       1.00      0.93      0.96        44\n",
      "           1       0.96      1.00      0.98        82\n",
      "\n",
      "    accuracy                           0.98       126\n",
      "   macro avg       0.98      0.97      0.97       126\n",
      "weighted avg       0.98      0.98      0.98       126\n",
      "\n"
     ]
    }
   ],
   "source": [
    "print(classification_report(Y_test_new, Y_test_pred_ovrc))"
   ]
  },
  {
   "cell_type": "markdown",
   "metadata": {},
   "source": [
    "## Decision Tree Classifier"
   ]
  },
  {
   "cell_type": "code",
   "execution_count": 22,
   "metadata": {},
   "outputs": [],
   "source": [
    "from sklearn.tree import DecisionTreeClassifier"
   ]
  },
  {
   "cell_type": "code",
   "execution_count": 23,
   "metadata": {},
   "outputs": [
    {
     "data": {
      "text/plain": [
       "DecisionTreeClassifier(criterion='entropy', max_depth=10)"
      ]
     },
     "execution_count": 23,
     "metadata": {},
     "output_type": "execute_result"
    }
   ],
   "source": [
    "decision_tree_classifier = DecisionTreeClassifier(criterion='entropy', max_depth=10)\n",
    "decision_tree_classifier.fit(X_train, Y_train)"
   ]
  },
  {
   "cell_type": "code",
   "execution_count": 24,
   "metadata": {},
   "outputs": [
    {
     "data": {
      "text/plain": [
       "1.0"
      ]
     },
     "execution_count": 24,
     "metadata": {},
     "output_type": "execute_result"
    }
   ],
   "source": [
    "decision_tree_classifier.score(X_train, Y_train)"
   ]
  },
  {
   "cell_type": "code",
   "execution_count": 25,
   "metadata": {},
   "outputs": [
    {
     "data": {
      "text/plain": [
       "0.9035087719298246"
      ]
     },
     "execution_count": 25,
     "metadata": {},
     "output_type": "execute_result"
    }
   ],
   "source": [
    "decision_tree_classifier.score(X_test, Y_test)"
   ]
  },
  {
   "cell_type": "code",
   "execution_count": 26,
   "metadata": {},
   "outputs": [
    {
     "name": "stdout",
     "output_type": "stream",
     "text": [
      "Accuracy_score=0.9035087719298246\n"
     ]
    }
   ],
   "source": [
    "Y_train_pred_dt = decision_tree_classifier.predict(X_train)\n",
    "Y_test_pred_dt = decision_tree_classifier.predict(X_test)\n",
    "accuracy_score = metrics.accuracy_score(Y_test, Y_test_pred_dt)\n",
    "print(\"Accuracy_score={}\".format(accuracy_score))"
   ]
  },
  {
   "cell_type": "code",
   "execution_count": 27,
   "metadata": {},
   "outputs": [
    {
     "data": {
      "text/plain": [
       "array([0.        , 0.02377787, 0.        , 0.        , 0.        ,\n",
       "       0.        , 0.        , 0.        , 0.02233823, 0.0064081 ,\n",
       "       0.020093  , 0.        , 0.        , 0.0104542 , 0.        ,\n",
       "       0.00754841, 0.        , 0.        , 0.02072653, 0.        ,\n",
       "       0.        , 0.08668882, 0.18602039, 0.        , 0.        ,\n",
       "       0.00754841, 0.        , 0.60198796, 0.0064081 , 0.        ])"
      ]
     },
     "execution_count": 27,
     "metadata": {},
     "output_type": "execute_result"
    }
   ],
   "source": [
    "decision_tree_classifier.feature_importances_"
   ]
  },
  {
   "cell_type": "code",
   "execution_count": 28,
   "metadata": {},
   "outputs": [
    {
     "name": "stdout",
     "output_type": "stream",
     "text": [
      "Confusion Matrix:\n",
      "[[43  4]\n",
      " [ 7 60]]\n"
     ]
    },
    {
     "data": {
      "image/png": "[encoded data removed]",
      "text/plain": [
       "<Figure size 288x288 with 2 Axes>"
      ]
     },
     "metadata": {
      "needs_background": "light"
     },
     "output_type": "display_data"
    }
   ],
   "source": [
    "print(\"Confusion Matrix:\")\n",
    "cm = confusion_matrix(Y_test, Y_test_pred_dt)\n",
    "print(cm)\n",
    "plt.matshow(cm)\n",
    "\n",
    "plt.title('Confusion matrix', fontsize=25, position=(0.5,1.25))\n",
    "plt.xticks(fontsize=20)\n",
    "plt.yticks(fontsize=20)\n",
    "plt.ylabel('True label', fontsize=22)\n",
    "plt.xlabel('Predicted label', fontsize=22)\n",
    "plt.colorbar()\n",
    "\n",
    "plt.show()"
   ]
  },
  {
   "cell_type": "code",
   "execution_count": 29,
   "metadata": {},
   "outputs": [
    {
     "name": "stdout",
     "output_type": "stream",
     "text": [
      "              precision    recall  f1-score   support\n",
      "\n",
      "           0       0.86      0.91      0.89        47\n",
      "           1       0.94      0.90      0.92        67\n",
      "\n",
      "    accuracy                           0.90       114\n",
      "   macro avg       0.90      0.91      0.90       114\n",
      "weighted avg       0.91      0.90      0.90       114\n",
      "\n"
     ]
    }
   ],
   "source": [
    "print(classification_report(Y_test, Y_test_pred_dt))"
   ]
  },
  {
   "cell_type": "code",
   "execution_count": 30,
   "metadata": {},
   "outputs": [
    {
     "data": {
      "text/plain": [
       "0.6019879572984005"
      ]
     },
     "execution_count": 30,
     "metadata": {},
     "output_type": "execute_result"
    }
   ],
   "source": [
    "max(decision_tree_classifier.feature_importances_)"
   ]
  },
  {
   "cell_type": "markdown",
   "metadata": {},
   "source": [
    "## Random Forest Classifier"
   ]
  },
  {
   "cell_type": "code",
   "execution_count": 31,
   "metadata": {},
   "outputs": [],
   "source": [
    "from sklearn.ensemble import RandomForestClassifier"
   ]
  },
  {
   "cell_type": "code",
   "execution_count": 32,
   "metadata": {},
   "outputs": [
    {
     "data": {
      "text/plain": [
       "RandomForestClassifier(n_estimators=10, n_jobs=-1)"
      ]
     },
     "execution_count": 32,
     "metadata": {},
     "output_type": "execute_result"
    }
   ],
   "source": [
    "random_forest_classifier = RandomForestClassifier(n_jobs=-1, n_estimators=10)\n",
    "random_forest_classifier.fit(X_train, Y_train)"
   ]
  },
  {
   "cell_type": "code",
   "execution_count": 33,
   "metadata": {},
   "outputs": [
    {
     "data": {
      "text/plain": [
       "0.9978021978021978"
      ]
     },
     "execution_count": 33,
     "metadata": {},
     "output_type": "execute_result"
    }
   ],
   "source": [
    "random_forest_classifier.score(X_train, Y_train)"
   ]
  },
  {
   "cell_type": "code",
   "execution_count": 34,
   "metadata": {},
   "outputs": [
    {
     "data": {
      "text/plain": [
       "0.956140350877193"
      ]
     },
     "execution_count": 34,
     "metadata": {},
     "output_type": "execute_result"
    }
   ],
   "source": [
    "random_forest_classifier.score(X_test, Y_test)"
   ]
  },
  {
   "cell_type": "code",
   "execution_count": 35,
   "metadata": {},
   "outputs": [
    {
     "name": "stdout",
     "output_type": "stream",
     "text": [
      "Accuracy_score=0.956140350877193\n"
     ]
    }
   ],
   "source": [
    "Y_train_pred_rf = random_forest_classifier.predict(X_train)\n",
    "Y_test_pred_rf = random_forest_classifier.predict(X_test)\n",
    "accuracy_score = metrics.accuracy_score(Y_test, Y_test_pred_rf)\n",
    "print(\"Accuracy_score={}\".format(accuracy_score))"
   ]
  },
  {
   "cell_type": "code",
   "execution_count": 36,
   "metadata": {},
   "outputs": [
    {
     "name": "stdout",
     "output_type": "stream",
     "text": [
      "Confusion Matrix:\n",
      "[[46  1]\n",
      " [ 4 63]]\n"
     ]
    },
    {
     "data": {
      "image/png": "[encoded data removed]",
      "text/plain": [
       "<Figure size 288x288 with 2 Axes>"
      ]
     },
     "metadata": {
      "needs_background": "light"
     },
     "output_type": "display_data"
    }
   ],
   "source": [
    "print(\"Confusion Matrix:\")\n",
    "cm = confusion_matrix(Y_test, Y_test_pred_rf)\n",
    "print(cm)\n",
    "plt.matshow(cm)\n",
    "\n",
    "plt.title('Confusion matrix', fontsize=25, position=(0.5,1.25))\n",
    "plt.xticks(fontsize=20)\n",
    "plt.yticks(fontsize=20)\n",
    "plt.ylabel('True label', fontsize=22)\n",
    "plt.xlabel('Predicted label', fontsize=22)\n",
    "plt.colorbar()\n",
    "\n",
    "plt.show()"
   ]
  },
  {
   "cell_type": "code",
   "execution_count": 37,
   "metadata": {},
   "outputs": [
    {
     "name": "stdout",
     "output_type": "stream",
     "text": [
      "              precision    recall  f1-score   support\n",
      "\n",
      "           0       0.92      0.98      0.95        47\n",
      "           1       0.98      0.94      0.96        67\n",
      "\n",
      "    accuracy                           0.96       114\n",
      "   macro avg       0.95      0.96      0.96       114\n",
      "weighted avg       0.96      0.96      0.96       114\n",
      "\n"
     ]
    }
   ],
   "source": [
    "print(classification_report(Y_test, Y_test_pred_rf))"
   ]
  },
  {
   "cell_type": "code",
   "execution_count": 38,
   "metadata": {},
   "outputs": [
    {
     "data": {
      "text/plain": [
       "KNeighborsClassifier(n_neighbors=3)"
      ]
     },
     "execution_count": 38,
     "metadata": {},
     "output_type": "execute_result"
    }
   ],
   "source": [
    "from sklearn.neighbors import KNeighborsClassifier\n",
    "\n",
    "# Try different values for n_neighbors\n",
    "knn = KNeighborsClassifier(n_neighbors=3)\n",
    "\n",
    "knn.fit(X_train, Y_train)"
   ]
  },
  {
   "cell_type": "code",
   "execution_count": 39,
   "metadata": {},
   "outputs": [
    {
     "data": {
      "text/plain": [
       "0.9604395604395605"
      ]
     },
     "execution_count": 39,
     "metadata": {},
     "output_type": "execute_result"
    }
   ],
   "source": [
    "knn.score(X_train, Y_train)"
   ]
  },
  {
   "cell_type": "code",
   "execution_count": 40,
   "metadata": {},
   "outputs": [
    {
     "data": {
      "text/plain": [
       "0.9122807017543859"
      ]
     },
     "execution_count": 40,
     "metadata": {},
     "output_type": "execute_result"
    }
   ],
   "source": [
    "knn.score(X_test, Y_test)"
   ]
  },
  {
   "cell_type": "code",
   "execution_count": 41,
   "metadata": {},
   "outputs": [
    {
     "name": "stdout",
     "output_type": "stream",
     "text": [
      "Accuracy_score=0.9122807017543859\n"
     ]
    }
   ],
   "source": [
    "Y_train_pred_knn = knn.predict(X_train)\n",
    "Y_test_pred_knn = knn.predict(X_test)\n",
    "accuracy_score = metrics.accuracy_score(Y_test, Y_test_pred_knn)\n",
    "print(\"Accuracy_score={}\".format(accuracy_score))"
   ]
  },
  {
   "cell_type": "code",
   "execution_count": 42,
   "metadata": {},
   "outputs": [
    {
     "name": "stdout",
     "output_type": "stream",
     "text": [
      "Confusion Matrix:\n",
      "[[43  4]\n",
      " [ 6 61]]\n"
     ]
    },
    {
     "data": {
      "image/png": "[encoded data removed]",
      "text/plain": [
       "<Figure size 288x288 with 2 Axes>"
      ]
     },
     "metadata": {
      "needs_background": "light"
     },
     "output_type": "display_data"
    }
   ],
   "source": [
    "print(\"Confusion Matrix:\")\n",
    "cm = confusion_matrix(Y_test, Y_test_pred_knn)\n",
    "print(cm)\n",
    "plt.matshow(cm)\n",
    "\n",
    "plt.title('Confusion matrix', fontsize=25, position=(0.5,1.25))\n",
    "plt.xticks(fontsize=20)\n",
    "plt.yticks(fontsize=20)\n",
    "plt.ylabel('True label', fontsize=22)\n",
    "plt.xlabel('Predicted label', fontsize=22)\n",
    "plt.colorbar()\n",
    "\n",
    "plt.show()"
   ]
  },
  {
   "cell_type": "code",
   "execution_count": 43,
   "metadata": {
    "scrolled": true
   },
   "outputs": [
    {
     "name": "stdout",
     "output_type": "stream",
     "text": [
      "              precision    recall  f1-score   support\n",
      "\n",
      "           0       0.88      0.91      0.90        47\n",
      "           1       0.94      0.91      0.92        67\n",
      "\n",
      "    accuracy                           0.91       114\n",
      "   macro avg       0.91      0.91      0.91       114\n",
      "weighted avg       0.91      0.91      0.91       114\n",
      "\n"
     ]
    }
   ],
   "source": [
    "print(classification_report(Y_test, Y_test_pred_knn))"
   ]
  },
  {
   "cell_type": "markdown",
   "metadata": {},
   "source": [
    "## k-Means Clustering\n",
    "\n",
    "First let's scale the data (center to the mean and component-wise scale to unit variance) to improve performance."
   ]
  },
  {
   "cell_type": "code",
   "execution_count": 45,
   "metadata": {},
   "outputs": [],
   "source": [
    "from sklearn.preprocessing import scale\n",
    "from sklearn.cluster import KMeans\n",
    "from scipy.stats import mode"
   ]
  },
  {
   "cell_type": "code",
   "execution_count": 46,
   "metadata": {},
   "outputs": [],
   "source": [
    "X_scaled = scale(X)"
   ]
  },
  {
   "cell_type": "code",
   "execution_count": 47,
   "metadata": {},
   "outputs": [
    {
     "data": {
      "text/plain": [
       "KMeans(init='random', n_clusters=2)"
      ]
     },
     "execution_count": 47,
     "metadata": {},
     "output_type": "execute_result"
    }
   ],
   "source": [
    "# for repeatibility\n",
    "np.random.seed(42)\n",
    "\n",
    "# Create the model\n",
    "kmeans = KMeans(init=\"random\", n_clusters=n_labels, n_init=10)\n",
    "\n",
    "# fit k-means using this reduced data\n",
    "kmeans.fit(X_scaled)"
   ]
  },
  {
   "cell_type": "code",
   "execution_count": 48,
   "metadata": {},
   "outputs": [
    {
     "data": {
      "text/plain": [
       "0.9103690685413005"
      ]
     },
     "execution_count": 48,
     "metadata": {},
     "output_type": "execute_result"
    }
   ],
   "source": [
    "clusters = kmeans.predict(X_scaled)\n",
    "Y_pred = np.zeros_like(clusters)\n",
    "for i in range(n_labels):\n",
    "    mask = (clusters == i)\n",
    "    Y_pred[mask] = mode(Y[mask])[0]\n",
    "\n",
    "metrics.accuracy_score(Y, Y_pred)"
   ]
  },
  {
   "cell_type": "code",
   "execution_count": 49,
   "metadata": {},
   "outputs": [
    {
     "name": "stdout",
     "output_type": "stream",
     "text": [
      "Accuracy_score=0.41228070175438597\n"
     ]
    }
   ],
   "source": [
    "Y_train_pred_kmeans = kmeans.predict(X_train)\n",
    "Y_test_pred_kmeans = kmeans.predict(X_test)\n",
    "accuracy_score = metrics.accuracy_score(Y_test, Y_test_pred_kmeans)\n",
    "print(\"Accuracy_score={}\".format(accuracy_score))"
   ]
  },
  {
   "cell_type": "code",
   "execution_count": 50,
   "metadata": {},
   "outputs": [
    {
     "name": "stdout",
     "output_type": "stream",
     "text": [
      "Confusion Matrix:\n",
      "[[47  0]\n",
      " [67  0]]\n"
     ]
    },
    {
     "data": {
      "image/png": "[encoded data removed]",
      "text/plain": [
       "<Figure size 288x288 with 2 Axes>"
      ]
     },
     "metadata": {
      "needs_background": "light"
     },
     "output_type": "display_data"
    }
   ],
   "source": [
    "print(\"Confusion Matrix:\")\n",
    "cm = confusion_matrix(Y_test, Y_test_pred_kmeans)\n",
    "print(cm)\n",
    "plt.matshow(cm)\n",
    "\n",
    "plt.title('Confusion matrix', fontsize=25, position=(0.5,1.25))\n",
    "plt.xticks(fontsize=20)\n",
    "plt.yticks(fontsize=20)\n",
    "plt.ylabel('True label', fontsize=22)\n",
    "plt.xlabel('Predicted label', fontsize=22)\n",
    "plt.colorbar()\n",
    "\n",
    "plt.show()"
   ]
  },
  {
   "cell_type": "code",
   "execution_count": 51,
   "metadata": {},
   "outputs": [
    {
     "name": "stdout",
     "output_type": "stream",
     "text": [
      "              precision    recall  f1-score   support\n",
      "\n",
      "           0       0.41      1.00      0.58        47\n",
      "           1       0.00      0.00      0.00        67\n",
      "\n",
      "    accuracy                           0.41       114\n",
      "   macro avg       0.21      0.50      0.29       114\n",
      "weighted avg       0.17      0.41      0.24       114\n",
      "\n"
     ]
    },
    {
     "name": "stderr",
     "output_type": "stream",
     "text": [
      "C:\\Users\\orsan\\anaconda3\\lib\\site-packages\\sklearn\\metrics\\_classification.py:1221: UndefinedMetricWarning: Precision and F-score are ill-defined and being set to 0.0 in labels with no predicted samples. Use `zero_division` parameter to control this behavior.\n",
      "  _warn_prf(average, modifier, msg_start, len(result))\n"
     ]
    }
   ],
   "source": [
    "print(classification_report(Y_test, Y_test_pred_kmeans))"
   ]
  },
  {
   "cell_type": "markdown",
   "metadata": {},
   "source": [
    "## Gaussian Naive Bayes Classifier\n",
    "\n",
    "First let's build a  Gaussian Naive Bayes Model out of the box:"
   ]
  },
  {
   "cell_type": "code",
   "execution_count": 52,
   "metadata": {},
   "outputs": [
    {
     "data": {
      "text/plain": [
       "GaussianNB()"
      ]
     },
     "execution_count": 52,
     "metadata": {},
     "output_type": "execute_result"
    }
   ],
   "source": [
    "from sklearn.naive_bayes import GaussianNB\n",
    "\n",
    "gaussian_naive_bayes_classifier = GaussianNB()\n",
    "gaussian_naive_bayes_classifier.fit(X_train, Y_train)"
   ]
  },
  {
   "cell_type": "code",
   "execution_count": 53,
   "metadata": {},
   "outputs": [
    {
     "data": {
      "text/plain": [
       "0.9472527472527472"
      ]
     },
     "execution_count": 53,
     "metadata": {},
     "output_type": "execute_result"
    }
   ],
   "source": [
    "gaussian_naive_bayes_classifier.score(X_train, Y_train)"
   ]
  },
  {
   "cell_type": "code",
   "execution_count": 54,
   "metadata": {},
   "outputs": [
    {
     "data": {
      "text/plain": [
       "0.9298245614035088"
      ]
     },
     "execution_count": 54,
     "metadata": {},
     "output_type": "execute_result"
    }
   ],
   "source": [
    "gaussian_naive_bayes_classifier.score(X_test, Y_test)"
   ]
  },
  {
   "cell_type": "code",
   "execution_count": 55,
   "metadata": {},
   "outputs": [
    {
     "name": "stdout",
     "output_type": "stream",
     "text": [
      "Accuracy_score=0.9298245614035088\n"
     ]
    }
   ],
   "source": [
    "Y_train_pred_gnb = gaussian_naive_bayes_classifier.predict(X_train)\n",
    "Y_test_pred_gnb = gaussian_naive_bayes_classifier.predict(X_test)\n",
    "accuracy_score = metrics.accuracy_score(Y_test, Y_test_pred_gnb)\n",
    "print(\"Accuracy_score={}\".format(accuracy_score))"
   ]
  },
  {
   "cell_type": "code",
   "execution_count": 56,
   "metadata": {},
   "outputs": [
    {
     "name": "stdout",
     "output_type": "stream",
     "text": [
      "Confusion Matrix:\n",
      "[[43  4]\n",
      " [ 4 63]]\n"
     ]
    },
    {
     "data": {
      "image/png": "[encoded data removed]",
      "text/plain": [
       "<Figure size 288x288 with 2 Axes>"
      ]
     },
     "metadata": {
      "needs_background": "light"
     },
     "output_type": "display_data"
    }
   ],
   "source": [
    "print(\"Confusion Matrix:\")\n",
    "cm = confusion_matrix(Y_test, Y_test_pred_gnb)\n",
    "print(cm)\n",
    "plt.matshow(cm)\n",
    "\n",
    "plt.title('Confusion matrix', fontsize=25, position=(0.5,1.25))\n",
    "plt.xticks(fontsize=20)\n",
    "plt.yticks(fontsize=20)\n",
    "plt.ylabel('True label', fontsize=22)\n",
    "plt.xlabel('Predicted label', fontsize=22)\n",
    "plt.colorbar()\n",
    "\n",
    "plt.show()"
   ]
  },
  {
   "cell_type": "code",
   "execution_count": 57,
   "metadata": {},
   "outputs": [
    {
     "name": "stdout",
     "output_type": "stream",
     "text": [
      "              precision    recall  f1-score   support\n",
      "\n",
      "           0       0.91      0.91      0.91        47\n",
      "           1       0.94      0.94      0.94        67\n",
      "\n",
      "    accuracy                           0.93       114\n",
      "   macro avg       0.93      0.93      0.93       114\n",
      "weighted avg       0.93      0.93      0.93       114\n",
      "\n"
     ]
    }
   ],
   "source": [
    "print(classification_report(Y_test, Y_test_pred_gnb))"
   ]
  },
  {
   "cell_type": "markdown",
   "metadata": {},
   "source": [
    "## Logistic Regression"
   ]
  },
  {
   "cell_type": "code",
   "execution_count": 58,
   "metadata": {},
   "outputs": [],
   "source": [
    "from sklearn import linear_model"
   ]
  },
  {
   "cell_type": "code",
   "execution_count": 62,
   "metadata": {},
   "outputs": [
    {
     "name": "stderr",
     "output_type": "stream",
     "text": [
      "C:\\Users\\orsan\\anaconda3\\lib\\site-packages\\sklearn\\linear_model\\_logistic.py:764: ConvergenceWarning: lbfgs failed to converge (status=1):\n",
      "STOP: TOTAL NO. of ITERATIONS REACHED LIMIT.\n",
      "\n",
      "Increase the number of iterations (max_iter) or scale the data as shown in:\n",
      "    https://scikit-learn.org/stable/modules/preprocessing.html\n",
      "Please also refer to the documentation for alternative solver options:\n",
      "    https://scikit-learn.org/stable/modules/linear_model.html#logistic-regression\n",
      "  extra_warning_msg=_LOGISTIC_SOLVER_CONVERGENCE_MSG)\n"
     ]
    }
   ],
   "source": [
    "logreg = linear_model.LogisticRegression(C=1e5, solver='lbfgs', multi_class='auto', max_iter=3000)\n",
    "logreg.fit(X_train, Y_train)\n",
    "\n",
    "Y_pred = logreg.predict(X_test)"
   ]
  },
  {
   "cell_type": "code",
   "execution_count": 63,
   "metadata": {},
   "outputs": [
    {
     "name": "stdout",
     "output_type": "stream",
     "text": [
      "Accuracy: 0.97\n"
     ]
    }
   ],
   "source": [
    "accuracy= metrics.accuracy_score(Y_pred, Y_test)\n",
    "\n",
    "print(\"Accuracy: {0:.2f}\".format(accuracy))"
   ]
  },
  {
   "cell_type": "code",
   "execution_count": 64,
   "metadata": {},
   "outputs": [
    {
     "name": "stdout",
     "output_type": "stream",
     "text": [
      "Accuracy_score=0.9736842105263158\n"
     ]
    }
   ],
   "source": [
    "Y_train_pred_logreg = logreg.predict(X_train)\n",
    "Y_test_pred_logreg = logreg.predict(X_test)\n",
    "accuracy_score = metrics.accuracy_score(Y_test, Y_test_pred_logreg)\n",
    "print(\"Accuracy_score={}\".format(accuracy_score))"
   ]
  },
  {
   "cell_type": "code",
   "execution_count": 65,
   "metadata": {},
   "outputs": [
    {
     "name": "stdout",
     "output_type": "stream",
     "text": [
      "              precision    recall  f1-score   support\n",
      "\n",
      "           0       0.96      0.98      0.97        47\n",
      "           1       0.98      0.97      0.98        67\n",
      "\n",
      "    accuracy                           0.97       114\n",
      "   macro avg       0.97      0.97      0.97       114\n",
      "weighted avg       0.97      0.97      0.97       114\n",
      "\n"
     ]
    }
   ],
   "source": [
    "print(classification_report(Y_test, Y_test_pred_logreg))"
   ]
  },
  {
   "cell_type": "code",
   "execution_count": 66,
   "metadata": {},
   "outputs": [
    {
     "name": "stdout",
     "output_type": "stream",
     "text": [
      "Confusion Matrix:\n",
      "[[46  1]\n",
      " [ 2 65]]\n"
     ]
    },
    {
     "data": {
      "image/png": "[encoded data removed]",
      "text/plain": [
       "<Figure size 288x288 with 2 Axes>"
      ]
     },
     "metadata": {
      "needs_background": "light"
     },
     "output_type": "display_data"
    }
   ],
   "source": [
    "print(\"Confusion Matrix:\")\n",
    "cm = confusion_matrix(Y_test, Y_test_pred_logreg)\n",
    "print(cm)\n",
    "plt.matshow(cm)\n",
    "\n",
    "plt.title('Confusion matrix', fontsize=25, position=(0.5,1.25))\n",
    "plt.xticks(fontsize=20)\n",
    "plt.yticks(fontsize=20)\n",
    "plt.ylabel('True label', fontsize=22)\n",
    "plt.xlabel('Predicted label', fontsize=22)\n",
    "plt.colorbar()\n",
    "\n",
    "plt.show()"
   ]
  },
  {
   "cell_type": "markdown",
   "metadata": {},
   "source": [
    "### Bagging (Bootstrap AGGregatING)\n",
    "\n",
    "Uses multiple base estimators that are weak on purpose."
   ]
  },
  {
   "cell_type": "code",
   "execution_count": 67,
   "metadata": {},
   "outputs": [],
   "source": [
    "from sklearn.ensemble import BaggingClassifier"
   ]
  },
  {
   "cell_type": "code",
   "execution_count": 68,
   "metadata": {},
   "outputs": [
    {
     "data": {
      "text/plain": [
       "BaggingClassifier(base_estimator=DecisionTreeClassifier(criterion='entropy',\n",
       "                                                        max_depth=5),\n",
       "                  max_features=0.8, max_samples=0.8)"
      ]
     },
     "execution_count": 68,
     "metadata": {},
     "output_type": "execute_result"
    }
   ],
   "source": [
    "bagging = BaggingClassifier(base_estimator=DecisionTreeClassifier(criterion='entropy', max_depth=5), \n",
    "                            n_estimators=10, max_samples=0.8, max_features=0.8)\n",
    "\n",
    "bagging.fit(X_train, Y_train)"
   ]
  },
  {
   "cell_type": "code",
   "execution_count": 69,
   "metadata": {},
   "outputs": [
    {
     "name": "stdout",
     "output_type": "stream",
     "text": [
      "0.9868131868131869\n",
      "0.9649122807017544\n"
     ]
    }
   ],
   "source": [
    "print(bagging.score(X_train, Y_train))\n",
    "print(bagging.score(X_test, Y_test))"
   ]
  },
  {
   "cell_type": "code",
   "execution_count": 70,
   "metadata": {},
   "outputs": [
    {
     "name": "stdout",
     "output_type": "stream",
     "text": [
      "Accuracy_score=0.9649122807017544\n"
     ]
    }
   ],
   "source": [
    "Y_train_pred_bagging = bagging.predict(X_train)\n",
    "Y_test_pred_bagging = bagging.predict(X_test)\n",
    "accuracy_score = metrics.accuracy_score(Y_test, Y_test_pred_bagging)\n",
    "print(\"Accuracy_score={}\".format(accuracy_score))"
   ]
  },
  {
   "cell_type": "code",
   "execution_count": 71,
   "metadata": {},
   "outputs": [
    {
     "name": "stdout",
     "output_type": "stream",
     "text": [
      "              precision    recall  f1-score   support\n",
      "\n",
      "           0       0.94      0.98      0.96        47\n",
      "           1       0.98      0.96      0.97        67\n",
      "\n",
      "    accuracy                           0.96       114\n",
      "   macro avg       0.96      0.97      0.96       114\n",
      "weighted avg       0.97      0.96      0.97       114\n",
      "\n"
     ]
    }
   ],
   "source": [
    "print(classification_report(Y_test, Y_test_pred_bagging))"
   ]
  },
  {
   "cell_type": "code",
   "execution_count": 72,
   "metadata": {},
   "outputs": [
    {
     "name": "stdout",
     "output_type": "stream",
     "text": [
      "Confusion Matrix:\n",
      "[[46  1]\n",
      " [ 3 64]]\n"
     ]
    },
    {
     "data": {
      "image/png": "[encoded data removed]",
      "text/plain": [
       "<Figure size 288x288 with 2 Axes>"
      ]
     },
     "metadata": {
      "needs_background": "light"
     },
     "output_type": "display_data"
    }
   ],
   "source": [
    "print(\"Confusion Matrix:\")\n",
    "cm = confusion_matrix(Y_test, Y_test_pred_bagging)\n",
    "print(cm)\n",
    "plt.matshow(cm)\n",
    "\n",
    "plt.title('Confusion matrix', fontsize=25, position=(0.5,1.25))\n",
    "plt.xticks(fontsize=20)\n",
    "plt.yticks(fontsize=20)\n",
    "plt.ylabel('True label', fontsize=22)\n",
    "plt.xlabel('Predicted label', fontsize=22)\n",
    "plt.colorbar()\n",
    "\n",
    "plt.show()"
   ]
  },
  {
   "cell_type": "markdown",
   "metadata": {},
   "source": [
    "### Boosting"
   ]
  },
  {
   "cell_type": "code",
   "execution_count": 73,
   "metadata": {},
   "outputs": [
    {
     "data": {
      "text/plain": [
       "AdaBoostClassifier(base_estimator=DecisionTreeClassifier(criterion='entropy',\n",
       "                                                         max_depth=4),\n",
       "                   n_estimators=30)"
      ]
     },
     "execution_count": 73,
     "metadata": {},
     "output_type": "execute_result"
    }
   ],
   "source": [
    "from sklearn.ensemble import AdaBoostClassifier\n",
    "\n",
    "boosting = AdaBoostClassifier(base_estimator=DecisionTreeClassifier(criterion='entropy', max_depth=4),\n",
    "                              n_estimators=30)   \n",
    "boosting.fit(X_train, Y_train)"
   ]
  },
  {
   "cell_type": "code",
   "execution_count": 74,
   "metadata": {},
   "outputs": [
    {
     "name": "stdout",
     "output_type": "stream",
     "text": [
      "1.0\n",
      "0.9298245614035088\n"
     ]
    }
   ],
   "source": [
    "print(boosting.score(X_train, Y_train))\n",
    "print(boosting.score(X_test, Y_test))"
   ]
  },
  {
   "cell_type": "code",
   "execution_count": 75,
   "metadata": {},
   "outputs": [
    {
     "name": "stdout",
     "output_type": "stream",
     "text": [
      "Accuracy_score=0.9298245614035088\n"
     ]
    }
   ],
   "source": [
    "Y_train_pred_boosting = boosting.predict(X_train)\n",
    "Y_test_pred_boosting = boosting.predict(X_test)\n",
    "accuracy_score = metrics.accuracy_score(Y_test, Y_test_pred_boosting)\n",
    "print(\"Accuracy_score={}\".format(accuracy_score))"
   ]
  },
  {
   "cell_type": "code",
   "execution_count": 76,
   "metadata": {},
   "outputs": [
    {
     "name": "stdout",
     "output_type": "stream",
     "text": [
      "              precision    recall  f1-score   support\n",
      "\n",
      "           0       0.91      0.91      0.91        47\n",
      "           1       0.94      0.94      0.94        67\n",
      "\n",
      "    accuracy                           0.93       114\n",
      "   macro avg       0.93      0.93      0.93       114\n",
      "weighted avg       0.93      0.93      0.93       114\n",
      "\n"
     ]
    }
   ],
   "source": [
    "print(classification_report(Y_test, Y_test_pred_boosting))"
   ]
  },
  {
   "cell_type": "code",
   "execution_count": 77,
   "metadata": {},
   "outputs": [
    {
     "name": "stdout",
     "output_type": "stream",
     "text": [
      "Confusion Matrix:\n",
      "[[43  4]\n",
      " [ 4 63]]\n"
     ]
    },
    {
     "data": {
      "image/png": "[encoded data removed]",
      "text/plain": [
       "<Figure size 288x288 with 2 Axes>"
      ]
     },
     "metadata": {
      "needs_background": "light"
     },
     "output_type": "display_data"
    }
   ],
   "source": [
    "print(\"Confusion Matrix:\")\n",
    "cm = confusion_matrix(Y_test, Y_test_pred_boosting)\n",
    "print(cm)\n",
    "plt.matshow(cm)\n",
    "\n",
    "plt.title('Confusion matrix', fontsize=25, position=(0.5,1.25))\n",
    "plt.xticks(fontsize=20)\n",
    "plt.yticks(fontsize=20)\n",
    "plt.ylabel('True label', fontsize=22)\n",
    "plt.xlabel('Predicted label', fontsize=22)\n",
    "plt.colorbar()\n",
    "\n",
    "plt.show()"
   ]
  },
  {
   "cell_type": "markdown",
   "metadata": {},
   "source": [
    "### Stacking"
   ]
  },
  {
   "cell_type": "code",
   "execution_count": 78,
   "metadata": {},
   "outputs": [],
   "source": [
    "import pandas as pd"
   ]
  },
  {
   "cell_type": "code",
   "execution_count": 79,
   "metadata": {},
   "outputs": [],
   "source": [
    "Y_train_pred_all = {\"lr\": Y_train_pred_logreg,\n",
    "                    \n",
    "                    \"dt\" : Y_train_pred_dt,\n",
    "                    \"rf\": Y_train_pred_rf,\n",
    "                    \"knn\" : Y_train_pred_knn,\n",
    "                    \"gnb\" : Y_train_pred_gnb,\n",
    "                    \"kmeans\" : Y_train_pred_kmeans,\n",
    "                    \"bagging\" : Y_train_pred_bagging,\n",
    "                    \"boosting\" : Y_train_pred_boosting\n",
    "}\n",
    "\n",
    "Y_train_pred_stacked = pd.DataFrame(Y_train_pred_all,\n",
    "                                    columns=[\"lr\", \"dt\", \"rf\", \"knn\", \"gnb\", \"kmeans\", \"bagging\", \"boosting\"])\n",
    "\n",
    "Y_test_pred_all = {\"lr\": Y_test_pred_logreg,\n",
    "                   \n",
    "                   \"dt\" : Y_test_pred_dt,\n",
    "                   \"rf\": Y_test_pred_rf,\n",
    "                   \"knn\" : Y_test_pred_knn,\n",
    "                   \"gnb\" : Y_test_pred_gnb,\n",
    "                   \"kmeans\" : Y_test_pred_kmeans,\n",
    "                   \"bagging\" : Y_test_pred_bagging,\n",
    "                   \"boosting\" : Y_test_pred_boosting\n",
    "}\n",
    "\n",
    "Y_test_pred_stacked = pd.DataFrame(Y_test_pred_all,\n",
    "                                   columns=[\"lr\", \"dt\", \"rf\", \"knn\", \"gnb\", \"kmeans\", \"bagging\", \"boosting\"])"
   ]
  },
  {
   "cell_type": "code",
   "execution_count": 80,
   "metadata": {},
   "outputs": [
    {
     "data": {
      "text/plain": [
       "RandomForestClassifier(n_jobs=-1)"
      ]
     },
     "execution_count": 80,
     "metadata": {},
     "output_type": "execute_result"
    }
   ],
   "source": [
    "from sklearn.ensemble import RandomForestClassifier\n",
    "\n",
    "meta_classifier = RandomForestClassifier(n_jobs=-1, n_estimators=100)\n",
    "\n",
    "meta_classifier.fit(Y_train_pred_stacked, Y_train)"
   ]
  },
  {
   "cell_type": "code",
   "execution_count": 81,
   "metadata": {},
   "outputs": [
    {
     "data": {
      "text/plain": [
       "1.0"
      ]
     },
     "execution_count": 81,
     "metadata": {},
     "output_type": "execute_result"
    }
   ],
   "source": [
    "meta_classifier.score(Y_train_pred_stacked, Y_train)"
   ]
  },
  {
   "cell_type": "code",
   "execution_count": 82,
   "metadata": {},
   "outputs": [
    {
     "data": {
      "text/plain": [
       "0.9385964912280702"
      ]
     },
     "execution_count": 82,
     "metadata": {},
     "output_type": "execute_result"
    }
   ],
   "source": [
    "meta_classifier.score(Y_test_pred_stacked, Y_test)"
   ]
  },
  {
   "cell_type": "code",
   "execution_count": 83,
   "metadata": {},
   "outputs": [
    {
     "name": "stdout",
     "output_type": "stream",
     "text": [
      "Accuracy_score=0.9385964912280702\n"
     ]
    }
   ],
   "source": [
    "Y_test_pred_stacked_pred = meta_classifier.predict(Y_test_pred_stacked)\n",
    "accuracy_score = metrics.accuracy_score(Y_test, Y_test_pred_stacked_pred)\n",
    "print(\"Accuracy_score={}\".format(accuracy_score))"
   ]
  },
  {
   "cell_type": "code",
   "execution_count": 84,
   "metadata": {},
   "outputs": [
    {
     "name": "stdout",
     "output_type": "stream",
     "text": [
      "              precision    recall  f1-score   support\n",
      "\n",
      "           0       0.90      0.96      0.93        47\n",
      "           1       0.97      0.93      0.95        67\n",
      "\n",
      "    accuracy                           0.94       114\n",
      "   macro avg       0.93      0.94      0.94       114\n",
      "weighted avg       0.94      0.94      0.94       114\n",
      "\n"
     ]
    }
   ],
   "source": [
    "print(classification_report(Y_test, Y_test_pred_stacked_pred))"
   ]
  },
  {
   "cell_type": "code",
   "execution_count": 85,
   "metadata": {},
   "outputs": [
    {
     "name": "stdout",
     "output_type": "stream",
     "text": [
      "Confusion Matrix:\n",
      "[[45  2]\n",
      " [ 5 62]]\n"
     ]
    },
    {
     "data": {
      "image/png": "[encoded data removed]",
      "text/plain": [
       "<Figure size 288x288 with 2 Axes>"
      ]
     },
     "metadata": {
      "needs_background": "light"
     },
     "output_type": "display_data"
    }
   ],
   "source": [
    "print(\"Confusion Matrix:\")\n",
    "cm = confusion_matrix(Y_test, Y_test_pred_stacked_pred)\n",
    "print(cm)\n",
    "plt.matshow(cm)\n",
    "\n",
    "plt.title('Confusion matrix', fontsize=25, position=(0.5,1.25))\n",
    "plt.xticks(fontsize=20)\n",
    "plt.yticks(fontsize=20)\n",
    "plt.ylabel('True label', fontsize=22)\n",
    "plt.xlabel('Predicted label', fontsize=22)\n",
    "plt.colorbar()\n",
    "\n",
    "plt.show()"
   ]
  },
  {
   "cell_type": "markdown",
   "metadata": {},
   "source": [
    "### Gradient Boosting Classifier"
   ]
  },
  {
   "cell_type": "code",
   "execution_count": 86,
   "metadata": {},
   "outputs": [],
   "source": [
    "from sklearn.ensemble import GradientBoostingClassifier"
   ]
  },
  {
   "cell_type": "code",
   "execution_count": 87,
   "metadata": {},
   "outputs": [
    {
     "data": {
      "text/plain": [
       "0.9736842105263158"
      ]
     },
     "execution_count": 87,
     "metadata": {},
     "output_type": "execute_result"
    }
   ],
   "source": [
    "gradient_boosting_classifier = GradientBoostingClassifier(n_estimators=100, learning_rate=1.0,\n",
    "                                 max_depth=1, random_state=0)\n",
    "gradient_boosting_classifier.fit(X_train, Y_train)\n",
    "gradient_boosting_classifier.score(X_test, Y_test)"
   ]
  },
  {
   "cell_type": "code",
   "execution_count": 88,
   "metadata": {},
   "outputs": [
    {
     "name": "stdout",
     "output_type": "stream",
     "text": [
      "Accuracy_score=0.9736842105263158\n"
     ]
    }
   ],
   "source": [
    "Y_train_pred_graident_boosting = gradient_boosting_classifier.predict(X_train)\n",
    "Y_test_pred_gradient_boosting = gradient_boosting_classifier.predict(X_test)\n",
    "accuracy_score = metrics.accuracy_score(Y_test, Y_test_pred_gradient_boosting)\n",
    "print(\"Accuracy_score={}\".format(accuracy_score))"
   ]
  },
  {
   "cell_type": "code",
   "execution_count": 89,
   "metadata": {},
   "outputs": [
    {
     "name": "stdout",
     "output_type": "stream",
     "text": [
      "              precision    recall  f1-score   support\n",
      "\n",
      "           0       0.98      0.96      0.97        47\n",
      "           1       0.97      0.99      0.98        67\n",
      "\n",
      "    accuracy                           0.97       114\n",
      "   macro avg       0.97      0.97      0.97       114\n",
      "weighted avg       0.97      0.97      0.97       114\n",
      "\n"
     ]
    }
   ],
   "source": [
    "print(classification_report(Y_test, Y_test_pred_gradient_boosting))"
   ]
  },
  {
   "cell_type": "code",
   "execution_count": 90,
   "metadata": {},
   "outputs": [
    {
     "name": "stdout",
     "output_type": "stream",
     "text": [
      "Confusion Matrix:\n",
      "[[45  2]\n",
      " [ 1 66]]\n"
     ]
    },
    {
     "data": {
      "image/png": "[encoded data removed]",
      "text/plain": [
       "<Figure size 288x288 with 2 Axes>"
      ]
     },
     "metadata": {
      "needs_background": "light"
     },
     "output_type": "display_data"
    }
   ],
   "source": [
    "print(\"Confusion Matrix:\")\n",
    "cm = confusion_matrix(Y_test, Y_test_pred_gradient_boosting)\n",
    "print(cm)\n",
    "plt.matshow(cm)\n",
    "\n",
    "plt.title('Confusion matrix', fontsize=25, position=(0.5,1.25))\n",
    "plt.xticks(fontsize=20)\n",
    "plt.yticks(fontsize=20)\n",
    "plt.ylabel('True label', fontsize=22)\n",
    "plt.xlabel('Predicted label', fontsize=22)\n",
    "plt.colorbar()\n",
    "\n",
    "plt.show()"
   ]
  },
  {
   "cell_type": "markdown",
   "metadata": {},
   "source": [
    "### Multinomial Naive Bayes"
   ]
  },
  {
   "cell_type": "code",
   "execution_count": 91,
   "metadata": {},
   "outputs": [],
   "source": [
    "from sklearn.naive_bayes import MultinomialNB"
   ]
  },
  {
   "cell_type": "code",
   "execution_count": 92,
   "metadata": {},
   "outputs": [
    {
     "data": {
      "text/plain": [
       "0.8947368421052632"
      ]
     },
     "execution_count": 92,
     "metadata": {},
     "output_type": "execute_result"
    }
   ],
   "source": [
    "multi_naives_bayes = MultinomialNB()\n",
    "multi_naives_bayes.fit(X_train,Y_train)\n",
    "multi_naives_bayes.score(X_test, Y_test)"
   ]
  },
  {
   "cell_type": "code",
   "execution_count": 93,
   "metadata": {},
   "outputs": [
    {
     "name": "stdout",
     "output_type": "stream",
     "text": [
      "Accuracy_score=0.8947368421052632\n"
     ]
    }
   ],
   "source": [
    "Y_train_pred_multi_naives_bayes = multi_naives_bayes.predict(X_train)\n",
    "Y_test_pred_multi_naives_bayes = multi_naives_bayes.predict(X_test)\n",
    "accuracy_score = metrics.accuracy_score(Y_test, Y_test_pred_multi_naives_bayes)\n",
    "print(\"Accuracy_score={}\".format(accuracy_score))"
   ]
  },
  {
   "cell_type": "code",
   "execution_count": 94,
   "metadata": {},
   "outputs": [
    {
     "name": "stdout",
     "output_type": "stream",
     "text": [
      "              precision    recall  f1-score   support\n",
      "\n",
      "           0       0.97      0.77      0.86        47\n",
      "           1       0.86      0.99      0.92        67\n",
      "\n",
      "    accuracy                           0.89       114\n",
      "   macro avg       0.92      0.88      0.89       114\n",
      "weighted avg       0.90      0.89      0.89       114\n",
      "\n"
     ]
    }
   ],
   "source": [
    "print(classification_report(Y_test, Y_test_pred_multi_naives_bayes))"
   ]
  },
  {
   "cell_type": "code",
   "execution_count": 95,
   "metadata": {},
   "outputs": [
    {
     "name": "stdout",
     "output_type": "stream",
     "text": [
      "Confusion Matrix:\n",
      "[[36 11]\n",
      " [ 1 66]]\n"
     ]
    },
    {
     "data": {
      "image/png": "[encoded data removed]",
      "text/plain": [
       "<Figure size 288x288 with 2 Axes>"
      ]
     },
     "metadata": {
      "needs_background": "light"
     },
     "output_type": "display_data"
    }
   ],
   "source": [
    "print(\"Confusion Matrix:\")\n",
    "cm = confusion_matrix(Y_test, Y_test_pred_multi_naives_bayes)\n",
    "print(cm)\n",
    "plt.matshow(cm)\n",
    "\n",
    "plt.title('Confusion matrix', fontsize=25, position=(0.5,1.25))\n",
    "plt.xticks(fontsize=20)\n",
    "plt.yticks(fontsize=20)\n",
    "plt.ylabel('True label', fontsize=22)\n",
    "plt.xlabel('Predicted label', fontsize=22)\n",
    "plt.colorbar()\n",
    "\n",
    "plt.show()"
   ]
  },
  {
   "cell_type": "markdown",
   "metadata": {},
   "source": [
    "### Complement Naive Bayes"
   ]
  },
  {
   "cell_type": "code",
   "execution_count": 96,
   "metadata": {},
   "outputs": [],
   "source": [
    "from sklearn.naive_bayes import ComplementNB"
   ]
  },
  {
   "cell_type": "code",
   "execution_count": 97,
   "metadata": {},
   "outputs": [
    {
     "data": {
      "text/plain": [
       "0.8947368421052632"
      ]
     },
     "execution_count": 97,
     "metadata": {},
     "output_type": "execute_result"
    }
   ],
   "source": [
    "complement_naive_bayes = ComplementNB()\n",
    "complement_naive_bayes.fit(X_train,Y_train)\n",
    "complement_naive_bayes.score(X_test,Y_test)"
   ]
  },
  {
   "cell_type": "code",
   "execution_count": 98,
   "metadata": {},
   "outputs": [
    {
     "name": "stdout",
     "output_type": "stream",
     "text": [
      "Accuracy_score=0.8947368421052632\n"
     ]
    }
   ],
   "source": [
    "Y_train_pred_complement_naive_bayes = complement_naive_bayes.predict(X_train)\n",
    "Y_test_pred_complement_naive_bayes = complement_naive_bayes.predict(X_test)\n",
    "accuracy_score = metrics.accuracy_score(Y_test, Y_test_pred_complement_naive_bayes)\n",
    "print(\"Accuracy_score={}\".format(accuracy_score))"
   ]
  },
  {
   "cell_type": "code",
   "execution_count": 99,
   "metadata": {},
   "outputs": [
    {
     "name": "stdout",
     "output_type": "stream",
     "text": [
      "              precision    recall  f1-score   support\n",
      "\n",
      "           0       0.97      0.77      0.86        47\n",
      "           1       0.86      0.99      0.92        67\n",
      "\n",
      "    accuracy                           0.89       114\n",
      "   macro avg       0.92      0.88      0.89       114\n",
      "weighted avg       0.90      0.89      0.89       114\n",
      "\n"
     ]
    }
   ],
   "source": [
    "print(classification_report(Y_test, Y_test_pred_complement_naive_bayes))"
   ]
  },
  {
   "cell_type": "code",
   "execution_count": 100,
   "metadata": {},
   "outputs": [
    {
     "name": "stdout",
     "output_type": "stream",
     "text": [
      "Confusion Matrix:\n",
      "[[36 11]\n",
      " [ 1 66]]\n"
     ]
    },
    {
     "data": {
      "image/png": "[encoded data removed]",
      "text/plain": [
       "<Figure size 288x288 with 2 Axes>"
      ]
     },
     "metadata": {
      "needs_background": "light"
     },
     "output_type": "display_data"
    }
   ],
   "source": [
    "print(\"Confusion Matrix:\")\n",
    "cm = confusion_matrix(Y_test, Y_test_pred_multi_naives_bayes)\n",
    "print(cm)\n",
    "plt.matshow(cm)\n",
    "\n",
    "plt.title('Confusion matrix', fontsize=25, position=(0.5,1.25))\n",
    "plt.xticks(fontsize=20)\n",
    "plt.yticks(fontsize=20)\n",
    "plt.ylabel('True label', fontsize=22)\n",
    "plt.xlabel('Predicted label', fontsize=22)\n",
    "plt.colorbar()\n",
    "\n",
    "plt.show()"
   ]
  },
  {
   "cell_type": "markdown",
   "metadata": {},
   "source": [
    "### Bernoulli Naive Bayes"
   ]
  },
  {
   "cell_type": "code",
   "execution_count": 101,
   "metadata": {},
   "outputs": [],
   "source": [
    "from sklearn.naive_bayes import BernoulliNB"
   ]
  },
  {
   "cell_type": "code",
   "execution_count": 102,
   "metadata": {},
   "outputs": [
    {
     "data": {
      "text/plain": [
       "0.5877192982456141"
      ]
     },
     "execution_count": 102,
     "metadata": {},
     "output_type": "execute_result"
    }
   ],
   "source": [
    "bernoulli_naive_bayes = BernoulliNB()\n",
    "bernoulli_naive_bayes.fit(X_train,Y_train)\n",
    "bernoulli_naive_bayes.score(X_test,Y_test)"
   ]
  },
  {
   "cell_type": "code",
   "execution_count": 103,
   "metadata": {},
   "outputs": [
    {
     "name": "stdout",
     "output_type": "stream",
     "text": [
      "Accuracy_score=0.5877192982456141\n"
     ]
    }
   ],
   "source": [
    "Y_train_pred_bernoulli_naive_bayes = bernoulli_naive_bayes.predict(X_train)\n",
    "Y_test_pred_bernoulli_naive_bayes = bernoulli_naive_bayes.predict(X_test)\n",
    "accuracy_score = metrics.accuracy_score(Y_test, Y_test_pred_bernoulli_naive_bayes)\n",
    "print(\"Accuracy_score={}\".format(accuracy_score))"
   ]
  },
  {
   "cell_type": "code",
   "execution_count": 104,
   "metadata": {},
   "outputs": [
    {
     "name": "stdout",
     "output_type": "stream",
     "text": [
      "              precision    recall  f1-score   support\n",
      "\n",
      "           0       0.00      0.00      0.00        47\n",
      "           1       0.59      1.00      0.74        67\n",
      "\n",
      "    accuracy                           0.59       114\n",
      "   macro avg       0.29      0.50      0.37       114\n",
      "weighted avg       0.35      0.59      0.44       114\n",
      "\n"
     ]
    },
    {
     "name": "stderr",
     "output_type": "stream",
     "text": [
      "C:\\Users\\orsan\\anaconda3\\lib\\site-packages\\sklearn\\metrics\\_classification.py:1221: UndefinedMetricWarning: Precision and F-score are ill-defined and being set to 0.0 in labels with no predicted samples. Use `zero_division` parameter to control this behavior.\n",
      "  _warn_prf(average, modifier, msg_start, len(result))\n"
     ]
    }
   ],
   "source": [
    "print(classification_report(Y_test, Y_test_pred_bernoulli_naive_bayes))"
   ]
  },
  {
   "cell_type": "code",
   "execution_count": 105,
   "metadata": {},
   "outputs": [
    {
     "name": "stdout",
     "output_type": "stream",
     "text": [
      "Confusion Matrix:\n",
      "[[ 0 47]\n",
      " [ 0 67]]\n"
     ]
    },
    {
     "data": {
      "image/png": "[encoded data removed]",
      "text/plain": [
       "<Figure size 288x288 with 2 Axes>"
      ]
     },
     "metadata": {
      "needs_background": "light"
     },
     "output_type": "display_data"
    }
   ],
   "source": [
    "print(\"Confusion Matrix:\")\n",
    "cm = confusion_matrix(Y_test, Y_test_pred_bernoulli_naive_bayes)\n",
    "print(cm)\n",
    "plt.matshow(cm)\n",
    "\n",
    "plt.title('Confusion matrix', fontsize=25, position=(0.5,1.25))\n",
    "plt.xticks(fontsize=20)\n",
    "plt.yticks(fontsize=20)\n",
    "plt.ylabel('True label', fontsize=22)\n",
    "plt.xlabel('Predicted label', fontsize=22)\n",
    "plt.colorbar()\n",
    "\n",
    "plt.show()"
   ]
  },
  {
   "cell_type": "markdown",
   "metadata": {},
   "source": [
    "### Extra Trees Classifier"
   ]
  },
  {
   "cell_type": "code",
   "execution_count": 106,
   "metadata": {},
   "outputs": [],
   "source": [
    "from sklearn.ensemble import ExtraTreesClassifier"
   ]
  },
  {
   "cell_type": "code",
   "execution_count": 107,
   "metadata": {},
   "outputs": [
    {
     "data": {
      "text/plain": [
       "0.9385964912280702"
      ]
     },
     "execution_count": 107,
     "metadata": {},
     "output_type": "execute_result"
    }
   ],
   "source": [
    "extra_trees = ExtraTreesClassifier(n_estimators=100)\n",
    "extra_trees.fit(X_train,Y_train)\n",
    "extra_trees.score(X_test,Y_test)"
   ]
  },
  {
   "cell_type": "code",
   "execution_count": 108,
   "metadata": {},
   "outputs": [
    {
     "name": "stdout",
     "output_type": "stream",
     "text": [
      "Accuracy_score=0.9385964912280702\n"
     ]
    }
   ],
   "source": [
    "Y_train_pred_extra_trees = extra_trees.predict(X_train)\n",
    "Y_test_pred_extra_trees = extra_trees.predict(X_test)\n",
    "accuracy_score = metrics.accuracy_score(Y_test, Y_test_pred_extra_trees)\n",
    "print(\"Accuracy_score={}\".format(accuracy_score))"
   ]
  },
  {
   "cell_type": "code",
   "execution_count": 109,
   "metadata": {},
   "outputs": [
    {
     "name": "stdout",
     "output_type": "stream",
     "text": [
      "              precision    recall  f1-score   support\n",
      "\n",
      "           0       0.93      0.91      0.92        47\n",
      "           1       0.94      0.96      0.95        67\n",
      "\n",
      "    accuracy                           0.94       114\n",
      "   macro avg       0.94      0.94      0.94       114\n",
      "weighted avg       0.94      0.94      0.94       114\n",
      "\n"
     ]
    }
   ],
   "source": [
    "print(classification_report(Y_test, Y_test_pred_extra_trees))"
   ]
  },
  {
   "cell_type": "code",
   "execution_count": 110,
   "metadata": {},
   "outputs": [
    {
     "name": "stdout",
     "output_type": "stream",
     "text": [
      "Confusion Matrix:\n",
      "[[43  4]\n",
      " [ 3 64]]\n"
     ]
    },
    {
     "data": {
      "image/png": "[encoded data removed]",
      "text/plain": [
       "<Figure size 288x288 with 2 Axes>"
      ]
     },
     "metadata": {
      "needs_background": "light"
     },
     "output_type": "display_data"
    }
   ],
   "source": [
    "print(\"Confusion Matrix:\")\n",
    "cm = confusion_matrix(Y_test, Y_test_pred_extra_trees)\n",
    "print(cm)\n",
    "plt.matshow(cm)\n",
    "\n",
    "plt.title('Confusion matrix', fontsize=25, position=(0.5,1.25))\n",
    "plt.xticks(fontsize=20)\n",
    "plt.yticks(fontsize=20)\n",
    "plt.ylabel('True label', fontsize=22)\n",
    "plt.xlabel('Predicted label', fontsize=22)\n",
    "plt.colorbar()\n",
    "\n",
    "plt.show()"
   ]
  },
  {
   "cell_type": "markdown",
   "metadata": {},
   "source": [
    "### Histogram Based Gradient Boosting"
   ]
  },
  {
   "cell_type": "code",
   "execution_count": 112,
   "metadata": {},
   "outputs": [],
   "source": [
    "from sklearn.experimental import enable_hist_gradient_boosting\n",
    "from sklearn.ensemble import HistGradientBoostingClassifier"
   ]
  },
  {
   "cell_type": "code",
   "execution_count": 113,
   "metadata": {},
   "outputs": [
    {
     "data": {
      "text/plain": [
       "0.9649122807017544"
      ]
     },
     "execution_count": 113,
     "metadata": {},
     "output_type": "execute_result"
    }
   ],
   "source": [
    "hist_grad_boost = HistGradientBoostingClassifier()\n",
    "hist_grad_boost.fit(X_train,Y_train)\n",
    "hist_grad_boost.score(X_test,Y_test)"
   ]
  },
  {
   "cell_type": "code",
   "execution_count": 114,
   "metadata": {},
   "outputs": [
    {
     "name": "stdout",
     "output_type": "stream",
     "text": [
      "Accuracy_score=0.9649122807017544\n"
     ]
    }
   ],
   "source": [
    "Y_train_hist_grad_boost = hist_grad_boost.predict(X_train)\n",
    "Y_test_pred_hist_grad_boost = hist_grad_boost.predict(X_test)\n",
    "accuracy_score = metrics.accuracy_score(Y_test, Y_test_pred_hist_grad_boost)\n",
    "print(\"Accuracy_score={}\".format(accuracy_score))"
   ]
  },
  {
   "cell_type": "code",
   "execution_count": 115,
   "metadata": {},
   "outputs": [
    {
     "name": "stdout",
     "output_type": "stream",
     "text": [
      "              precision    recall  f1-score   support\n",
      "\n",
      "           0       0.98      0.94      0.96        47\n",
      "           1       0.96      0.99      0.97        67\n",
      "\n",
      "    accuracy                           0.96       114\n",
      "   macro avg       0.97      0.96      0.96       114\n",
      "weighted avg       0.97      0.96      0.96       114\n",
      "\n"
     ]
    }
   ],
   "source": [
    "print(classification_report(Y_test, Y_test_pred_hist_grad_boost))"
   ]
  },
  {
   "cell_type": "code",
   "execution_count": 116,
   "metadata": {},
   "outputs": [
    {
     "name": "stdout",
     "output_type": "stream",
     "text": [
      "Confusion Matrix:\n",
      "[[43  4]\n",
      " [ 3 64]]\n"
     ]
    },
    {
     "data": {
      "image/png": "[encoded data removed]",
      "text/plain": [
       "<Figure size 288x288 with 2 Axes>"
      ]
     },
     "metadata": {
      "needs_background": "light"
     },
     "output_type": "display_data"
    }
   ],
   "source": [
    "print(\"Confusion Matrix:\")\n",
    "cm = confusion_matrix(Y_test, Y_test_pred_extra_trees)\n",
    "print(cm)\n",
    "plt.matshow(cm)\n",
    "\n",
    "plt.title('Confusion matrix', fontsize=25, position=(0.5,1.25))\n",
    "plt.xticks(fontsize=20)\n",
    "plt.yticks(fontsize=20)\n",
    "plt.ylabel('True label', fontsize=22)\n",
    "plt.xlabel('Predicted label', fontsize=22)\n",
    "plt.colorbar()\n",
    "\n",
    "plt.show()"
   ]
  },
  {
   "cell_type": "markdown",
   "metadata": {},
   "source": [
    "### Neural Network : MLP Classifier"
   ]
  },
  {
   "cell_type": "code",
   "execution_count": 117,
   "metadata": {},
   "outputs": [],
   "source": [
    "from sklearn.neural_network import MLPClassifier"
   ]
  },
  {
   "cell_type": "code",
   "execution_count": 118,
   "metadata": {},
   "outputs": [
    {
     "data": {
      "text/plain": [
       "0.9649122807017544"
      ]
     },
     "execution_count": 118,
     "metadata": {},
     "output_type": "execute_result"
    }
   ],
   "source": [
    "mlp_class = MLPClassifier(max_iter=1000)\n",
    "mlp_class.fit(X_train,Y_train)\n",
    "mlp_class.score(X_test,Y_test)"
   ]
  },
  {
   "cell_type": "code",
   "execution_count": 119,
   "metadata": {},
   "outputs": [
    {
     "name": "stdout",
     "output_type": "stream",
     "text": [
      "Accuracy_score=0.9649122807017544\n"
     ]
    }
   ],
   "source": [
    "Y_train_mlp_class = mlp_class.predict(X_train)\n",
    "Y_test_pred_mlp_class  = mlp_class.predict(X_test)\n",
    "accuracy_score = metrics.accuracy_score(Y_test, Y_test_pred_mlp_class)\n",
    "print(\"Accuracy_score={}\".format(accuracy_score))"
   ]
  },
  {
   "cell_type": "code",
   "execution_count": 120,
   "metadata": {},
   "outputs": [
    {
     "name": "stdout",
     "output_type": "stream",
     "text": [
      "              precision    recall  f1-score   support\n",
      "\n",
      "           0       1.00      0.91      0.96        47\n",
      "           1       0.94      1.00      0.97        67\n",
      "\n",
      "    accuracy                           0.96       114\n",
      "   macro avg       0.97      0.96      0.96       114\n",
      "weighted avg       0.97      0.96      0.96       114\n",
      "\n"
     ]
    }
   ],
   "source": [
    "print(classification_report(Y_test, Y_test_pred_mlp_class))"
   ]
  },
  {
   "cell_type": "code",
   "execution_count": 121,
   "metadata": {},
   "outputs": [
    {
     "name": "stdout",
     "output_type": "stream",
     "text": [
      "Confusion Matrix:\n",
      "[[43  4]\n",
      " [ 0 67]]\n"
     ]
    },
    {
     "data": {
      "image/png": "[encoded data removed]",
      "text/plain": [
       "<Figure size 288x288 with 2 Axes>"
      ]
     },
     "metadata": {
      "needs_background": "light"
     },
     "output_type": "display_data"
    }
   ],
   "source": [
    "print(\"Confusion Matrix:\")\n",
    "cm = confusion_matrix(Y_test, Y_test_pred_mlp_class)\n",
    "print(cm)\n",
    "plt.matshow(cm)\n",
    "\n",
    "plt.title('Confusion matrix', fontsize=25, position=(0.5,1.25))\n",
    "plt.xticks(fontsize=20)\n",
    "plt.yticks(fontsize=20)\n",
    "plt.ylabel('True label', fontsize=22)\n",
    "plt.xlabel('Predicted label', fontsize=22)\n",
    "plt.colorbar()\n",
    "\n",
    "plt.show()"
   ]
  },
  {
   "cell_type": "markdown",
   "metadata": {},
   "source": [
    "### Sthocastic Gradient Descent Classifier"
   ]
  },
  {
   "cell_type": "code",
   "execution_count": 122,
   "metadata": {},
   "outputs": [],
   "source": [
    "from sklearn.linear_model import SGDClassifier"
   ]
  },
  {
   "cell_type": "code",
   "execution_count": 123,
   "metadata": {},
   "outputs": [
    {
     "data": {
      "text/plain": [
       "0.9385964912280702"
      ]
     },
     "execution_count": 123,
     "metadata": {},
     "output_type": "execute_result"
    }
   ],
   "source": [
    "sgd_class = SGDClassifier()\n",
    "sgd_class.fit(X_train,Y_train)\n",
    "sgd_class.score(X_test,Y_test)"
   ]
  },
  {
   "cell_type": "code",
   "execution_count": 124,
   "metadata": {},
   "outputs": [
    {
     "name": "stdout",
     "output_type": "stream",
     "text": [
      "Accuracy_score=0.9385964912280702\n"
     ]
    }
   ],
   "source": [
    "Y_train_sgd_class = sgd_class.predict(X_train)\n",
    "Y_test_pred_sgd_class  = sgd_class.predict(X_test)\n",
    "accuracy_score = metrics.accuracy_score(Y_test, Y_test_pred_sgd_class)\n",
    "print(\"Accuracy_score={}\".format(accuracy_score))"
   ]
  },
  {
   "cell_type": "code",
   "execution_count": 125,
   "metadata": {},
   "outputs": [
    {
     "name": "stdout",
     "output_type": "stream",
     "text": [
      "              precision    recall  f1-score   support\n",
      "\n",
      "           0       0.95      0.89      0.92        47\n",
      "           1       0.93      0.97      0.95        67\n",
      "\n",
      "    accuracy                           0.94       114\n",
      "   macro avg       0.94      0.93      0.94       114\n",
      "weighted avg       0.94      0.94      0.94       114\n",
      "\n"
     ]
    }
   ],
   "source": [
    "print(classification_report(Y_test, Y_test_pred_sgd_class))"
   ]
  },
  {
   "cell_type": "code",
   "execution_count": 126,
   "metadata": {},
   "outputs": [
    {
     "name": "stdout",
     "output_type": "stream",
     "text": [
      "Confusion Matrix:\n",
      "[[42  5]\n",
      " [ 2 65]]\n"
     ]
    },
    {
     "data": {
      "image/png": "[encoded data removed]",
      "text/plain": [
       "<Figure size 288x288 with 2 Axes>"
      ]
     },
     "metadata": {
      "needs_background": "light"
     },
     "output_type": "display_data"
    }
   ],
   "source": [
    "print(\"Confusion Matrix:\")\n",
    "cm = confusion_matrix(Y_test, Y_test_pred_sgd_class)\n",
    "print(cm)\n",
    "plt.matshow(cm)\n",
    "\n",
    "plt.title('Confusion matrix', fontsize=25, position=(0.5,1.25))\n",
    "plt.xticks(fontsize=20)\n",
    "plt.yticks(fontsize=20)\n",
    "plt.ylabel('True label', fontsize=22)\n",
    "plt.xlabel('Predicted label', fontsize=22)\n",
    "plt.colorbar()\n",
    "\n",
    "plt.show()"
   ]
  },
  {
   "cell_type": "markdown",
   "metadata": {},
   "source": [
    "### Ridge Classifier"
   ]
  },
  {
   "cell_type": "code",
   "execution_count": 127,
   "metadata": {},
   "outputs": [],
   "source": [
    "from sklearn.linear_model import RidgeClassifier"
   ]
  },
  {
   "cell_type": "code",
   "execution_count": 128,
   "metadata": {},
   "outputs": [
    {
     "data": {
      "text/plain": [
       "0.956140350877193"
      ]
     },
     "execution_count": 128,
     "metadata": {},
     "output_type": "execute_result"
    }
   ],
   "source": [
    "ridge_class = RidgeClassifier()\n",
    "ridge_class.fit(X_train,Y_train)\n",
    "ridge_class.score(X_test,Y_test)"
   ]
  },
  {
   "cell_type": "code",
   "execution_count": 129,
   "metadata": {},
   "outputs": [
    {
     "name": "stdout",
     "output_type": "stream",
     "text": [
      "Accuracy_score=0.956140350877193\n"
     ]
    }
   ],
   "source": [
    "Y_train_ridge_class = ridge_class.predict(X_train)\n",
    "Y_test_pred_ridge_class  = ridge_class.predict(X_test)\n",
    "accuracy_score = metrics.accuracy_score(Y_test, Y_test_pred_ridge_class)\n",
    "print(\"Accuracy_score={}\".format(accuracy_score))"
   ]
  },
  {
   "cell_type": "code",
   "execution_count": 130,
   "metadata": {},
   "outputs": [
    {
     "name": "stdout",
     "output_type": "stream",
     "text": [
      "              precision    recall  f1-score   support\n",
      "\n",
      "           0       1.00      0.89      0.94        47\n",
      "           1       0.93      1.00      0.96        67\n",
      "\n",
      "    accuracy                           0.96       114\n",
      "   macro avg       0.97      0.95      0.95       114\n",
      "weighted avg       0.96      0.96      0.96       114\n",
      "\n"
     ]
    }
   ],
   "source": [
    "print(classification_report(Y_test, Y_test_pred_ridge_class))"
   ]
  },
  {
   "cell_type": "code",
   "execution_count": 131,
   "metadata": {},
   "outputs": [
    {
     "name": "stdout",
     "output_type": "stream",
     "text": [
      "Confusion Matrix:\n",
      "[[42  5]\n",
      " [ 0 67]]\n"
     ]
    },
    {
     "data": {
      "image/png": "[encoded data removed]",
      "text/plain": [
       "<Figure size 288x288 with 2 Axes>"
      ]
     },
     "metadata": {
      "needs_background": "light"
     },
     "output_type": "display_data"
    }
   ],
   "source": [
    "print(\"Confusion Matrix:\")\n",
    "cm = confusion_matrix(Y_test, Y_test_pred_ridge_class)\n",
    "print(cm)\n",
    "plt.matshow(cm)\n",
    "\n",
    "plt.title('Confusion matrix', fontsize=25, position=(0.5,1.25))\n",
    "plt.xticks(fontsize=20)\n",
    "plt.yticks(fontsize=20)\n",
    "plt.ylabel('True label', fontsize=22)\n",
    "plt.xlabel('Predicted label', fontsize=22)\n",
    "plt.colorbar()\n",
    "\n",
    "plt.show()"
   ]
  },
  {
   "cell_type": "markdown",
   "metadata": {},
   "source": [
    "### Perceptron Classifier"
   ]
  },
  {
   "cell_type": "code",
   "execution_count": 132,
   "metadata": {},
   "outputs": [],
   "source": [
    "from sklearn.linear_model import Perceptron"
   ]
  },
  {
   "cell_type": "code",
   "execution_count": 133,
   "metadata": {},
   "outputs": [
    {
     "data": {
      "text/plain": [
       "0.6491228070175439"
      ]
     },
     "execution_count": 133,
     "metadata": {},
     "output_type": "execute_result"
    }
   ],
   "source": [
    "percep_class = Perceptron()\n",
    "percep_class.fit(X_train,Y_train)\n",
    "percep_class.score(X_test,Y_test)"
   ]
  },
  {
   "cell_type": "code",
   "execution_count": 134,
   "metadata": {},
   "outputs": [
    {
     "name": "stdout",
     "output_type": "stream",
     "text": [
      "Accuracy_score=0.6491228070175439\n"
     ]
    }
   ],
   "source": [
    "Y_train_percep_class = percep_class.predict(X_train)\n",
    "Y_test_pred_percep_class = percep_class.predict(X_test)\n",
    "accuracy_score = metrics.accuracy_score(Y_test, Y_test_pred_percep_class)\n",
    "print(\"Accuracy_score={}\".format(accuracy_score))"
   ]
  },
  {
   "cell_type": "code",
   "execution_count": 135,
   "metadata": {},
   "outputs": [
    {
     "name": "stdout",
     "output_type": "stream",
     "text": [
      "              precision    recall  f1-score   support\n",
      "\n",
      "           0       0.54      1.00      0.70        47\n",
      "           1       1.00      0.40      0.57        67\n",
      "\n",
      "    accuracy                           0.65       114\n",
      "   macro avg       0.77      0.70      0.64       114\n",
      "weighted avg       0.81      0.65      0.63       114\n",
      "\n"
     ]
    }
   ],
   "source": [
    "print(classification_report(Y_test, Y_test_pred_percep_class))"
   ]
  },
  {
   "cell_type": "code",
   "execution_count": 136,
   "metadata": {},
   "outputs": [
    {
     "name": "stdout",
     "output_type": "stream",
     "text": [
      "Confusion Matrix:\n",
      "[[47  0]\n",
      " [40 27]]\n"
     ]
    },
    {
     "data": {
      "image/png": "[encoded data removed]",
      "text/plain": [
       "<Figure size 288x288 with 2 Axes>"
      ]
     },
     "metadata": {
      "needs_background": "light"
     },
     "output_type": "display_data"
    }
   ],
   "source": [
    "print(\"Confusion Matrix:\")\n",
    "cm = confusion_matrix(Y_test, Y_test_pred_percep_class)\n",
    "print(cm)\n",
    "plt.matshow(cm)\n",
    "\n",
    "plt.title('Confusion matrix', fontsize=25, position=(0.5,1.25))\n",
    "plt.xticks(fontsize=20)\n",
    "plt.yticks(fontsize=20)\n",
    "plt.ylabel('True label', fontsize=22)\n",
    "plt.xlabel('Predicted label', fontsize=22)\n",
    "plt.colorbar()\n",
    "\n",
    "plt.show()"
   ]
  },
  {
   "cell_type": "markdown",
   "metadata": {},
   "source": [
    "### Passive-Agressive Classifier"
   ]
  },
  {
   "cell_type": "code",
   "execution_count": 137,
   "metadata": {},
   "outputs": [],
   "source": [
    "from sklearn.linear_model import PassiveAggressiveClassifier"
   ]
  },
  {
   "cell_type": "code",
   "execution_count": 138,
   "metadata": {},
   "outputs": [
    {
     "data": {
      "text/plain": [
       "0.9210526315789473"
      ]
     },
     "execution_count": 138,
     "metadata": {},
     "output_type": "execute_result"
    }
   ],
   "source": [
    "pass_agg_class = PassiveAggressiveClassifier()\n",
    "pass_agg_class.fit(X_train,Y_train)\n",
    "pass_agg_class.score(X_test,Y_test)"
   ]
  },
  {
   "cell_type": "code",
   "execution_count": 139,
   "metadata": {},
   "outputs": [
    {
     "name": "stdout",
     "output_type": "stream",
     "text": [
      "Accuracy_score=0.9210526315789473\n"
     ]
    }
   ],
   "source": [
    "Y_train_pass_agg_class = pass_agg_class.predict(X_train)\n",
    "Y_test_pred_pass_agg_class = pass_agg_class.predict(X_test)\n",
    "accuracy_score = metrics.accuracy_score(Y_test, Y_test_pred_pass_agg_class)\n",
    "print(\"Accuracy_score={}\".format(accuracy_score))"
   ]
  },
  {
   "cell_type": "code",
   "execution_count": 140,
   "metadata": {},
   "outputs": [
    {
     "name": "stdout",
     "output_type": "stream",
     "text": [
      "              precision    recall  f1-score   support\n",
      "\n",
      "           0       0.95      0.85      0.90        47\n",
      "           1       0.90      0.97      0.94        67\n",
      "\n",
      "    accuracy                           0.92       114\n",
      "   macro avg       0.93      0.91      0.92       114\n",
      "weighted avg       0.92      0.92      0.92       114\n",
      "\n"
     ]
    }
   ],
   "source": [
    "print(classification_report(Y_test, Y_test_pred_pass_agg_class))"
   ]
  },
  {
   "cell_type": "code",
   "execution_count": 141,
   "metadata": {},
   "outputs": [
    {
     "name": "stdout",
     "output_type": "stream",
     "text": [
      "Confusion Matrix:\n",
      "[[40  7]\n",
      " [ 2 65]]\n"
     ]
    },
    {
     "data": {
      "image/png": "[encoded data removed]",
      "text/plain": [
       "<Figure size 288x288 with 2 Axes>"
      ]
     },
     "metadata": {
      "needs_background": "light"
     },
     "output_type": "display_data"
    }
   ],
   "source": [
    "print(\"Confusion Matrix:\")\n",
    "cm = confusion_matrix(Y_test, Y_test_pred_pass_agg_class)\n",
    "print(cm)\n",
    "plt.matshow(cm)\n",
    "\n",
    "plt.title('Confusion matrix', fontsize=25, position=(0.5,1.25))\n",
    "plt.xticks(fontsize=20)\n",
    "plt.yticks(fontsize=20)\n",
    "plt.ylabel('True label', fontsize=22)\n",
    "plt.xlabel('Predicted label', fontsize=22)\n",
    "plt.colorbar()\n",
    "\n",
    "plt.show()"
   ]
  },
  {
   "cell_type": "markdown",
   "metadata": {},
   "source": [
    "### Linear Discriminant Analysis Classifier"
   ]
  },
  {
   "cell_type": "code",
   "execution_count": 142,
   "metadata": {},
   "outputs": [],
   "source": [
    "from sklearn.discriminant_analysis import LinearDiscriminantAnalysis"
   ]
  },
  {
   "cell_type": "code",
   "execution_count": 143,
   "metadata": {},
   "outputs": [
    {
     "data": {
      "text/plain": [
       "0.9649122807017544"
      ]
     },
     "execution_count": 143,
     "metadata": {},
     "output_type": "execute_result"
    }
   ],
   "source": [
    "lin_dis_class = LinearDiscriminantAnalysis()\n",
    "lin_dis_class.fit(X_train,Y_train)\n",
    "lin_dis_class.score(X_test,Y_test)"
   ]
  },
  {
   "cell_type": "code",
   "execution_count": 144,
   "metadata": {},
   "outputs": [
    {
     "name": "stdout",
     "output_type": "stream",
     "text": [
      "Accuracy_score=0.9649122807017544\n"
     ]
    }
   ],
   "source": [
    "Y_train_lin_dis_class = lin_dis_class.predict(X_train)\n",
    "Y_test_pred_lin_dis_class = lin_dis_class.predict(X_test)\n",
    "accuracy_score = metrics.accuracy_score(Y_test, Y_test_pred_lin_dis_class)\n",
    "print(\"Accuracy_score={}\".format(accuracy_score))"
   ]
  },
  {
   "cell_type": "code",
   "execution_count": 145,
   "metadata": {},
   "outputs": [
    {
     "name": "stdout",
     "output_type": "stream",
     "text": [
      "Confusion Matrix:\n",
      "[[43  4]\n",
      " [ 0 67]]\n"
     ]
    },
    {
     "data": {
      "image/png": "[encoded data removed]",
      "text/plain": [
       "<Figure size 288x288 with 2 Axes>"
      ]
     },
     "metadata": {
      "needs_background": "light"
     },
     "output_type": "display_data"
    }
   ],
   "source": [
    "print(\"Confusion Matrix:\")\n",
    "cm = confusion_matrix(Y_test, Y_test_pred_lin_dis_class)\n",
    "print(cm)\n",
    "plt.matshow(cm)\n",
    "\n",
    "plt.title('Confusion matrix', fontsize=25, position=(0.5,1.25))\n",
    "plt.xticks(fontsize=20)\n",
    "plt.yticks(fontsize=20)\n",
    "plt.ylabel('True label', fontsize=22)\n",
    "plt.xlabel('Predicted label', fontsize=22)\n",
    "plt.colorbar()\n",
    "\n",
    "plt.show()"
   ]
  },
  {
   "cell_type": "markdown",
   "metadata": {},
   "source": [
    "### Quadratic Discriminant Analysis Classifier"
   ]
  },
  {
   "cell_type": "code",
   "execution_count": 146,
   "metadata": {},
   "outputs": [],
   "source": [
    "from sklearn.discriminant_analysis import QuadraticDiscriminantAnalysis"
   ]
  },
  {
   "cell_type": "code",
   "execution_count": 147,
   "metadata": {},
   "outputs": [
    {
     "data": {
      "text/plain": [
       "0.956140350877193"
      ]
     },
     "execution_count": 147,
     "metadata": {},
     "output_type": "execute_result"
    }
   ],
   "source": [
    "quad_disc_class = QuadraticDiscriminantAnalysis()\n",
    "quad_disc_class.fit(X_train,Y_train)\n",
    "quad_disc_class.score(X_test,Y_test)"
   ]
  },
  {
   "cell_type": "code",
   "execution_count": 148,
   "metadata": {},
   "outputs": [
    {
     "name": "stdout",
     "output_type": "stream",
     "text": [
      "Accuracy_score=0.956140350877193\n"
     ]
    }
   ],
   "source": [
    "Y_train_quad_disc_class = quad_disc_class.predict(X_train)\n",
    "Y_test_pred_quad_disc_class = quad_disc_class.predict(X_test)\n",
    "accuracy_score = metrics.accuracy_score(Y_test, Y_test_pred_quad_disc_class)\n",
    "print(\"Accuracy_score={}\".format(accuracy_score))"
   ]
  },
  {
   "cell_type": "code",
   "execution_count": 149,
   "metadata": {},
   "outputs": [
    {
     "name": "stdout",
     "output_type": "stream",
     "text": [
      "              precision    recall  f1-score   support\n",
      "\n",
      "           0       0.94      0.96      0.95        47\n",
      "           1       0.97      0.96      0.96        67\n",
      "\n",
      "    accuracy                           0.96       114\n",
      "   macro avg       0.95      0.96      0.95       114\n",
      "weighted avg       0.96      0.96      0.96       114\n",
      "\n"
     ]
    }
   ],
   "source": [
    "print(classification_report(Y_test, Y_test_pred_quad_disc_class))"
   ]
  },
  {
   "cell_type": "code",
   "execution_count": 150,
   "metadata": {},
   "outputs": [
    {
     "name": "stdout",
     "output_type": "stream",
     "text": [
      "Confusion Matrix:\n",
      "[[45  2]\n",
      " [ 3 64]]\n"
     ]
    },
    {
     "data": {
      "image/png": "[encoded data removed]",
      "text/plain": [
       "<Figure size 288x288 with 2 Axes>"
      ]
     },
     "metadata": {
      "needs_background": "light"
     },
     "output_type": "display_data"
    }
   ],
   "source": [
    "print(\"Confusion Matrix:\")\n",
    "cm = confusion_matrix(Y_test, Y_test_pred_quad_disc_class)\n",
    "print(cm)\n",
    "plt.matshow(cm)\n",
    "\n",
    "plt.title('Confusion matrix', fontsize=25, position=(0.5,1.25))\n",
    "plt.xticks(fontsize=20)\n",
    "plt.yticks(fontsize=20)\n",
    "plt.ylabel('True label', fontsize=22)\n",
    "plt.xlabel('Predicted label', fontsize=22)\n",
    "plt.colorbar()\n",
    "\n",
    "plt.show()"
   ]
  },
  {
   "cell_type": "code",
   "execution_count": null,
   "metadata": {},
   "outputs": [],
   "source": []
  }
 ],
 "metadata": {
  "kernelspec": {
   "display_name": "Python 3",
   "language": "python",
   "name": "python3"
  },
  "language_info": {
   "codemirror_mode": {
    "name": "ipython",
    "version": 3
   },
   "file_extension": ".py",
   "mimetype": "text/x-python",
   "name": "python",
   "nbconvert_exporter": "python",
   "pygments_lexer": "ipython3",
   "version": "3.7.6"
  }
 },
 "nbformat": 4,
 "nbformat_minor": 4
}
